{
 "cells": [
  {
   "cell_type": "markdown",
   "source": [
    "# QMCPy for Logistic Regression\r\n",
    "This notebook will give examples of how to use QMCPy for Logistic Regression"
   ],
   "metadata": {}
  },
  {
   "cell_type": "code",
   "execution_count": 1,
   "source": [
    "from qmcpy import *\r\n",
    "from numpy import *\r\n",
    "from qmcpy.integrand.LR import LR"
   ],
   "outputs": [],
   "metadata": {}
  },
  {
   "cell_type": "markdown",
   "source": [
    "Say we have some data. Say we want to use logistic regression for a dataset regarding admission to graduate school. We have,\r\n",
    "\r\n",
    "admission gre gpa  rank\r\n",
    "0         380 3.61 3\r\n",
    "1         660 3.67 3\r\n",
    "1         800 4    1\r\n",
    "1         640 3.19 4\r\n",
    "0         520 2.93 4\r\n",
    "1         760 3    2\r\n",
    "1         560 2.98 1\r\n",
    "0         400 3.08 2\r\n",
    "1         540 3.39 3\r\n",
    "0         700 3.92 2\r\n",
    "\r\n",
    "For us to use logistic regression, we must have a matrix, t, such that it only contains 0's and 1's. Another matrix, S, can be defined by the rest of the dataset. \r\n",
    "\r\n",
    "So, let t = array([0, 1, 1, 1, 0, 1, 1, 0, 1, 0]).\r\n",
    "Also, let S = \r\n",
    "array([\r\n",
    "[380,3.61,3]\r\n",
    "[660,3.67,3]\r\n",
    "[800,4,1]\r\n",
    "[640,3.19,4]\r\n",
    "[520,2.93,4]\r\n",
    "[760,3,2]\r\n",
    "[560,2.98,1]\r\n",
    "[400,3.08,2]\r\n",
    "[540,3.39,3]\r\n",
    "[700,3.92,2]])"
   ],
   "metadata": {}
  },
  {
   "cell_type": "code",
   "execution_count": 2,
   "source": [
    "abs_tol = .01\r\n",
    "dim = 1\r\n",
    "a = 0\r\n",
    "b = 2\r\n",
    "true_value = 8./3"
   ],
   "outputs": [],
   "metadata": {}
  },
  {
   "cell_type": "code",
   "execution_count": 3,
   "source": [
    "# Lebesgue Measure\r\n",
    "integrand = CustomFun(\r\n",
    "    true_measure = Lebesgue(Uniform(Halton(dim, seed=7),lower_bound=a, upper_bound=b)),\r\n",
    "    g = lambda x: (x**2).sum(1))\r\n",
    "solution,data = CubQMCCLT(integrand, abs_tol=abs_tol).integrate()\r\n",
    "print('y = %.3f'%solution)\r\n",
    "error = abs((solution-true_value))\r\n",
    "if error>abs_tol:\r\n",
    "    raise Exception(\"Not within error tolerance\")"
   ],
   "outputs": [
    {
     "output_type": "stream",
     "name": "stdout",
     "text": [
      "y = 2.668\n"
     ]
    }
   ],
   "metadata": {}
  },
  {
   "cell_type": "code",
   "execution_count": 4,
   "source": [
    "# Uniform Measure\r\n",
    "integrand = CustomFun(\r\n",
    "    true_measure = Uniform(IIDStdUniform(dim, seed=7), lower_bound=a, upper_bound=b),\r\n",
    "    g = lambda x: (2*(x**2)).sum(1))\r\n",
    "solution,data = CubMCCLT(integrand, abs_tol=abs_tol).integrate()\r\n",
    "print('y = %.3f'%solution)\r\n",
    "error = abs((solution-true_value))\r\n",
    "if error>abs_tol:\r\n",
    "    raise Exception(\"Not within error tolerance\")"
   ],
   "outputs": [
    {
     "output_type": "stream",
     "name": "stdout",
     "text": [
      "y = 2.669\n"
     ]
    }
   ],
   "metadata": {}
  },
  {
   "cell_type": "markdown",
   "source": [
    "## Sample Problem 2\n",
    "\n",
    "$y = \\int_{[a,b]^d} ||x||_2^2 dx, \\:\\: \\mbox{Lebesgue Measure}$\n",
    "\n",
    "$\\phantom{y} = \\Pi_{i=1}^d (b_i-a_i)\\int_{[a,b]^d} ||x||_2^2 \\; [ \\Pi_{i=1}^d (b_i-a_i)]^{-1} dx, \\:\\: \\mbox{Uniform Measure}$"
   ],
   "metadata": {}
  },
  {
   "cell_type": "code",
   "execution_count": 5,
   "source": [
    "abs_tol = .001\n",
    "dim = 2\n",
    "a = array([1.,2.])\n",
    "b = array([2.,4.])\n",
    "true_value = ((a[0]**3-b[0]**3)*(a[1]-b[1])+(a[0]-b[0])*(a[1]**3-b[1]**3))/3\n",
    "print('Answer = %.5f'%true_value)"
   ],
   "outputs": [
    {
     "output_type": "stream",
     "name": "stdout",
     "text": [
      "Answer = 23.33333\n"
     ]
    }
   ],
   "metadata": {}
  },
  {
   "cell_type": "code",
   "execution_count": 6,
   "source": [
    "# Lebesgue Measure\n",
    "integrand = CustomFun(\n",
    "    true_measure = Lebesgue(Uniform(Sobol(dim, seed=7), lower_bound=a, upper_bound=b)), \n",
    "    g = lambda x: (x**2).sum(1))\n",
    "solution,data = CubQMCCLT(integrand, abs_tol=abs_tol).integrate()\n",
    "print('y = %.5f'%solution)\n",
    "error = abs((solution-true_value))\n",
    "if error>abs_tol:\n",
    "    raise Exception(\"Not within error tolerance\")"
   ],
   "outputs": [
    {
     "output_type": "stream",
     "name": "stdout",
     "text": [
      "y = 23.33326\n"
     ]
    }
   ],
   "metadata": {}
  },
  {
   "cell_type": "code",
   "execution_count": 7,
   "source": [
    "# Uniform Measure\n",
    "integrand = CustomFun(\n",
    "    true_measure = Uniform(Sobol(dim, seed=17), lower_bound=a, upper_bound=b),\n",
    "    g = lambda x: (b-a).prod()*(x**2).sum(1))\n",
    "solution,data = CubQMCCLT(integrand, abs_tol=abs_tol).integrate()\n",
    "print('y = %.5f'%solution)\n",
    "error = abs((solution-true_value))\n",
    "if error>abs_tol:\n",
    "    raise Exception(\"Not within error tolerance\")"
   ],
   "outputs": [
    {
     "output_type": "stream",
     "name": "stdout",
     "text": [
      "y = 23.33340\n"
     ]
    }
   ],
   "metadata": {}
  },
  {
   "cell_type": "markdown",
   "source": [
    "## Sample Problem 3\n",
    "Integral that cannot be done in terms of any standard mathematical functions<br>\n",
    "$$y = \\int_{[a,b]} \\frac{\\sin{x}}{\\log{x}} dx, \\:\\: \\mbox{Lebesgue Measure}$$\n",
    "\n",
    "Mathematica Code: `Integrate[Sin[x]/Log[x], {x,a,b}]`\n"
   ],
   "metadata": {}
  },
  {
   "cell_type": "code",
   "execution_count": 8,
   "source": [
    "abs_tol = .0001\n",
    "dim = 1\n",
    "a = 3\n",
    "b = 5\n",
    "true_value = -0.87961 "
   ],
   "outputs": [],
   "metadata": {}
  },
  {
   "cell_type": "code",
   "execution_count": 9,
   "source": [
    "# Lebesgue Measure\n",
    "integrand = CustomFun(\n",
    "    true_measure = Lebesgue(Uniform(Lattice(dim, randomize=True, seed=7),a,b)), \n",
    "    g = lambda x: (sin(x)/log(x)).sum(1))\n",
    "solution,data = CubQMCLatticeG(integrand, abs_tol=abs_tol).integrate()\n",
    "print('y = %.3f'%solution)\n",
    "error = abs((solution-true_value))\n",
    "if error>abs_tol:\n",
    "    raise Exception(\"Not within error tolerance\")"
   ],
   "outputs": [
    {
     "output_type": "stream",
     "name": "stdout",
     "text": [
      "y = -0.880\n"
     ]
    }
   ],
   "metadata": {}
  },
  {
   "cell_type": "markdown",
   "source": [
    "## Sample Problem 4\n",
    "Integral over $\\mathbb{R}^d$\n",
    "$$y = \\int_{\\mathbb{R}^2} e^{-||x||_2^2} dx$$"
   ],
   "metadata": {}
  },
  {
   "cell_type": "code",
   "execution_count": 10,
   "source": [
    "abs_tol = .1\n",
    "dim = 2\n",
    "true_value = pi"
   ],
   "outputs": [],
   "metadata": {}
  },
  {
   "cell_type": "code",
   "execution_count": 11,
   "source": [
    "integrand = CustomFun(\n",
    "    true_measure = Lebesgue(Gaussian(Lattice(dim,seed=7))),\n",
    "    g = lambda x: exp(-x**2).prod(1))\n",
    "solution,data = CubQMCLatticeG(integrand,abs_tol=abs_tol).integrate()\n",
    "print('y = %.3f'%solution)\n",
    "error = abs((solution-true_value))\n",
    "if error>abs_tol:\n",
    "    raise Exception(\"Not within error tolerance\")"
   ],
   "outputs": [
    {
     "output_type": "stream",
     "name": "stdout",
     "text": [
      "y = 3.141\n"
     ]
    }
   ],
   "metadata": {}
  },
  {
   "cell_type": "code",
   "execution_count": null,
   "source": [],
   "outputs": [],
   "metadata": {}
  }
 ],
 "metadata": {
  "kernelspec": {
   "display_name": "Python 3",
   "language": "python",
   "name": "python3"
  },
  "language_info": {
   "codemirror_mode": {
    "name": "ipython",
    "version": 3
   },
   "file_extension": ".py",
   "mimetype": "text/x-python",
   "name": "python",
   "nbconvert_exporter": "python",
   "pygments_lexer": "ipython3",
   "version": "3.7.0"
  }
 },
 "nbformat": 4,
 "nbformat_minor": 2
}