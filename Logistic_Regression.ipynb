{
 "cells": [
  {
   "cell_type": "markdown",
   "source": [
    "# QMCPy for Logistic Regression\r\n",
    "This notebook will give examples of how to use QMCPy for Logistic Regression"
   ],
   "metadata": {}
  },
  {
   "cell_type": "code",
   "execution_count": 1,
   "source": [
    "from qmcpy import *\r\n",
    "from numpy import *\r\n",
    "from qmcpy.integrand.LR import LR"
   ],
   "outputs": [],
   "metadata": {}
  },
  {
   "cell_type": "markdown",
   "source": [
    "Say we have some data. Say we want to use logistic regression for a dataset regarding admission to graduate school. We have,\r\n",
    "\r\n",
    "admission gre gpa  rank\r\n",
    "0         380 3.61 3\r\n",
    "1         660 3.67 3\r\n",
    "1         800 4    1\r\n",
    "1         640 3.19 4\r\n",
    "0         520 2.93 4\r\n",
    "1         760 3    2\r\n",
    "1         560 2.98 1\r\n",
    "0         400 3.08 2\r\n",
    "1         540 3.39 3\r\n",
    "0         700 3.92 2\r\n",
    "\r\n",
    "For us to use logistic regression, we must have a matrix, t, such that it only contains 0's and 1's. Another matrix, S, can be defined by the rest of the dataset. \r\n",
    "\r\n",
    "So, let t = array([0, 1, 1, 1, 0, 1, 1, 0, 1, 0]).\r\n",
    "Also, let S = \r\n",
    "array([\r\n",
    "[380,3.61,3]\r\n",
    "[660,3.67,3]\r\n",
    "[800,4,1]\r\n",
    "[640,3.19,4]\r\n",
    "[520,2.93,4]\r\n",
    "[760,3,2]\r\n",
    "[560,2.98,1]\r\n",
    "[400,3.08,2]\r\n",
    "[540,3.39,3]\r\n",
    "[700,3.92,2]])"
   ],
   "metadata": {}
  },
  {
   "cell_type": "code",
   "execution_count": 7,
   "source": [
    "t = array([0, 1, 1, 1, 0, 1, 1, 0, 1, 0])\r\n",
    "S = array([\r\n",
    "[380,3.61,3],\r\n",
    "[660,3.67,3],\r\n",
    "[800,4,1],\r\n",
    "[640,3.19,4],\r\n",
    "[520,2.93,4],\r\n",
    "[760,3,2],\r\n",
    "[560,2.98,1],\r\n",
    "[400,3.08,2],\r\n",
    "[540,3.39,3],\r\n",
    "[700,3.92,2]])\r\n",
    "print(t)\r\n",
    "print(S)"
   ],
   "outputs": [
    {
     "output_type": "stream",
     "name": "stdout",
     "text": [
      "[0 1 1 1 0 1 1 0 1 0]\n",
      "[[380.     3.61   3.  ]\n",
      " [660.     3.67   3.  ]\n",
      " [800.     4.     1.  ]\n",
      " [640.     3.19   4.  ]\n",
      " [520.     2.93   4.  ]\n",
      " [760.     3.     2.  ]\n",
      " [560.     2.98   1.  ]\n",
      " [400.     3.08   2.  ]\n",
      " [540.     3.39   3.  ]\n",
      " [700.     3.92   2.  ]]\n"
     ]
    }
   ],
   "metadata": {}
  },
  {
   "cell_type": "markdown",
   "source": [
    "We have our matrices, now what we want to do is define our dimensions. For this work we must have the number of rows in S + 1 for the dimensions to work. So we will take the number of rows in S and add 1 and set that equal to r."
   ],
   "metadata": {}
  },
  {
   "cell_type": "code",
   "execution_count": 13,
   "source": [
    "no,dim_s = S.shape\r\n",
    "r = dim_s +1\r\n",
    "dim = r+1"
   ],
   "outputs": [],
   "metadata": {}
  },
  {
   "cell_type": "markdown",
   "source": [
    "Now, we want to setup our integration to find the coefficients for the logistic regression. We will setup the integration by using this program below."
   ],
   "metadata": {}
  },
  {
   "cell_type": "code",
   "execution_count": 14,
   "source": [
    "lr = LR(Sobol(dim_s+1,seed=8), s_matrix = S, t = t, r = r, prior_variance=[1,1e-4,1,1])\r\n",
    "if r==0: raise Exception('require r>0')\r\n",
    "qmcclt = CubQMCCLT(lr,\r\n",
    "    abs_tol = 0,\r\n",
    "    rel_tol = .25,\r\n",
    "    n_init = 256,\r\n",
    "    n_max = 2 ** 30,\r\n",
    "    inflate = 1.2,\r\n",
    "    alpha = 0.01,\r\n",
    "    replications = 16,\r\n",
    "    error_fun = lambda sv,abs_tol,rel_tol: maximum(abs_tol,abs(sv)*rel_tol),\r\n",
    "    bound_fun = lambda phvl, phvh: (\r\n",
    "        minimum.reduce([phvl[1:dim]/phvl[0],phvl[1:dim]/phvh[0],phvh[1:dim]/phvl[0],phvh[1:dim]/phvh[0]]),\r\n",
    "        maximum.reduce([phvl[1:dim]/phvl[0],phvl[1:dim]/phvh[0],phvh[1:dim]/phvl[0],phvh[1:dim]/phvh[0]]),\r\n",
    "        sign(phvl[0])!=sign(phvh[0])),\r\n",
    "    dependency = lambda flags_comb: hstack((flags_comb.any(),flags_comb)))\r\n",
    "s,data = qmcclt.integrate()\r\n",
    "print(data)"
   ],
   "outputs": [
    {
     "output_type": "stream",
     "name": "stdout",
     "text": [
      "MeanVarDataRep (AccumulateData Object)\n",
      "    solution        [-0.164  0.007 -0.66  -0.411]\n",
      "    indv_error_bound [5.689e-06 5.075e-06 1.399e-07 2.111e-05 1.052e-05]\n",
      "    ci_low          [ 1.883e-04 -3.829e-05  1.248e-06 -1.547e-04 -9.313e-05]\n",
      "    ci_high         [ 1.997e-04 -2.814e-05  1.528e-06 -1.125e-04 -7.209e-05]\n",
      "    ci_comb_low     [-0.203  0.006 -0.821 -0.494]\n",
      "    ci_comb_high    [-0.141  0.008 -0.563 -0.361]\n",
      "    solution_comb   [-0.164  0.007 -0.66  -0.411]\n",
      "    flags_comb      [False False False False]\n",
      "    flags_indv      [False False False False False]\n",
      "    n_total         2^(16)\n",
      "    n               [4096. 4096.  512.  512.  512.]\n",
      "    replications    2^(4)\n",
      "    time_integrate  0.257\n",
      "CubQMCCLT (StoppingCriterion Object)\n",
      "    inflate         1.200\n",
      "    alpha           0.010\n",
      "    abs_tol         0\n",
      "    rel_tol         2^(-2)\n",
      "    n_init          2^(8)\n",
      "    n_max           2^(30)\n",
      "LR (Integrand Object)\n",
      "Gaussian (TrueMeasure Object)\n",
      "    mean            0\n",
      "    covariance      [1.e+00 1.e-04 1.e+00 1.e+00]\n",
      "    decomp_type     pca\n",
      "Sobol (DiscreteDistribution Object)\n",
      "    d               2^(2)\n",
      "    randomize       1\n",
      "    graycode        0\n",
      "    seed            2^(3)\n",
      "    mimics          StdUniform\n",
      "    dim0            0\n"
     ]
    }
   ],
   "metadata": {}
  },
  {
   "cell_type": "markdown",
   "source": [
    "## Sample Problem 2\n",
    "\n",
    "$y = \\int_{[a,b]^d} ||x||_2^2 dx, \\:\\: \\mbox{Lebesgue Measure}$\n",
    "\n",
    "$\\phantom{y} = \\Pi_{i=1}^d (b_i-a_i)\\int_{[a,b]^d} ||x||_2^2 \\; [ \\Pi_{i=1}^d (b_i-a_i)]^{-1} dx, \\:\\: \\mbox{Uniform Measure}$"
   ],
   "metadata": {}
  },
  {
   "cell_type": "code",
   "execution_count": 5,
   "source": [
    "abs_tol = .001\r\n",
    "dim = 2\r\n",
    "a = array([1.,2.])\r\n",
    "b = array([2.,4.])\r\n",
    "true_value = ((a[0]**3-b[0]**3)*(a[1]-b[1])+(a[0]-b[0])*(a[1]**3-b[1]**3))/3\r\n",
    "print('Answer = %.5f'%true_value)"
   ],
   "outputs": [
    {
     "output_type": "stream",
     "name": "stdout",
     "text": [
      "Answer = 23.33333\n"
     ]
    }
   ],
   "metadata": {}
  },
  {
   "cell_type": "code",
   "execution_count": 6,
   "source": [
    "# Lebesgue Measure\r\n",
    "integrand = CustomFun(\r\n",
    "    true_measure = Lebesgue(Uniform(Sobol(dim, seed=7), lower_bound=a, upper_bound=b)), \r\n",
    "    g = lambda x: (x**2).sum(1))\r\n",
    "solution,data = CubQMCCLT(integrand, abs_tol=abs_tol).integrate()\r\n",
    "print('y = %.5f'%solution)\r\n",
    "error = abs((solution-true_value))\r\n",
    "if error>abs_tol:\r\n",
    "    raise Exception(\"Not within error tolerance\")"
   ],
   "outputs": [
    {
     "output_type": "stream",
     "name": "stdout",
     "text": [
      "y = 23.33326\n"
     ]
    }
   ],
   "metadata": {}
  },
  {
   "cell_type": "code",
   "execution_count": 7,
   "source": [
    "# Uniform Measure\n",
    "integrand = CustomFun(\n",
    "    true_measure = Uniform(Sobol(dim, seed=17), lower_bound=a, upper_bound=b),\n",
    "    g = lambda x: (b-a).prod()*(x**2).sum(1))\n",
    "solution,data = CubQMCCLT(integrand, abs_tol=abs_tol).integrate()\n",
    "print('y = %.5f'%solution)\n",
    "error = abs((solution-true_value))\n",
    "if error>abs_tol:\n",
    "    raise Exception(\"Not within error tolerance\")"
   ],
   "outputs": [
    {
     "output_type": "stream",
     "name": "stdout",
     "text": [
      "y = 23.33340\n"
     ]
    }
   ],
   "metadata": {}
  },
  {
   "cell_type": "markdown",
   "source": [
    "## Sample Problem 3\n",
    "Integral that cannot be done in terms of any standard mathematical functions<br>\n",
    "$$y = \\int_{[a,b]} \\frac{\\sin{x}}{\\log{x}} dx, \\:\\: \\mbox{Lebesgue Measure}$$\n",
    "\n",
    "Mathematica Code: `Integrate[Sin[x]/Log[x], {x,a,b}]`\n"
   ],
   "metadata": {}
  },
  {
   "cell_type": "code",
   "execution_count": 8,
   "source": [
    "abs_tol = .0001\n",
    "dim = 1\n",
    "a = 3\n",
    "b = 5\n",
    "true_value = -0.87961 "
   ],
   "outputs": [],
   "metadata": {}
  },
  {
   "cell_type": "code",
   "execution_count": 9,
   "source": [
    "# Lebesgue Measure\n",
    "integrand = CustomFun(\n",
    "    true_measure = Lebesgue(Uniform(Lattice(dim, randomize=True, seed=7),a,b)), \n",
    "    g = lambda x: (sin(x)/log(x)).sum(1))\n",
    "solution,data = CubQMCLatticeG(integrand, abs_tol=abs_tol).integrate()\n",
    "print('y = %.3f'%solution)\n",
    "error = abs((solution-true_value))\n",
    "if error>abs_tol:\n",
    "    raise Exception(\"Not within error tolerance\")"
   ],
   "outputs": [
    {
     "output_type": "stream",
     "name": "stdout",
     "text": [
      "y = -0.880\n"
     ]
    }
   ],
   "metadata": {}
  },
  {
   "cell_type": "markdown",
   "source": [
    "## Sample Problem 4\n",
    "Integral over $\\mathbb{R}^d$\n",
    "$$y = \\int_{\\mathbb{R}^2} e^{-||x||_2^2} dx$$"
   ],
   "metadata": {}
  },
  {
   "cell_type": "code",
   "execution_count": 10,
   "source": [
    "abs_tol = .1\n",
    "dim = 2\n",
    "true_value = pi"
   ],
   "outputs": [],
   "metadata": {}
  },
  {
   "cell_type": "code",
   "execution_count": 11,
   "source": [
    "integrand = CustomFun(\n",
    "    true_measure = Lebesgue(Gaussian(Lattice(dim,seed=7))),\n",
    "    g = lambda x: exp(-x**2).prod(1))\n",
    "solution,data = CubQMCLatticeG(integrand,abs_tol=abs_tol).integrate()\n",
    "print('y = %.3f'%solution)\n",
    "error = abs((solution-true_value))\n",
    "if error>abs_tol:\n",
    "    raise Exception(\"Not within error tolerance\")"
   ],
   "outputs": [
    {
     "output_type": "stream",
     "name": "stdout",
     "text": [
      "y = 3.141\n"
     ]
    }
   ],
   "metadata": {}
  },
  {
   "cell_type": "code",
   "execution_count": null,
   "source": [],
   "outputs": [],
   "metadata": {}
  }
 ],
 "metadata": {
  "kernelspec": {
   "name": "python3",
   "display_name": "Python 3.7.0 64-bit ('qmcpy': conda)"
  },
  "language_info": {
   "codemirror_mode": {
    "name": "ipython",
    "version": 3
   },
   "file_extension": ".py",
   "mimetype": "text/x-python",
   "name": "python",
   "nbconvert_exporter": "python",
   "pygments_lexer": "ipython3",
   "version": "3.7.0"
  },
  "interpreter": {
   "hash": "2cbc6a2e523825879ba6928de6d48dd415d053b3b6e498effe5c784f561b4217"
  }
 },
 "nbformat": 4,
 "nbformat_minor": 2
}