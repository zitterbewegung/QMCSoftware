{
 "cells": [
  {
   "cell_type": "markdown",
   "metadata": {},
   "source": [
    "# QMCPy for Logistic Regression\n",
    "This notebook will give examples of how to use QMCPy for Logistic Regression"
   ]
  },
  {
   "cell_type": "code",
   "execution_count": 1,
   "metadata": {},
   "outputs": [],
   "source": [
    "from qmcpy import *\n",
    "from numpy import *\n",
    "from qmcpy.integrand.LR import LR"
   ]
  },
  {
   "cell_type": "markdown",
   "metadata": {},
   "source": [
    "Say we have some data. Say we want to use logistic regression for a dataset regarding admission to graduate school. We have,\n",
    "\n",
    "\n",
    "The likelihood function  for logistic regression, $f:\\mathbb{R}^{d+1} \\to [0,\\infty)$ takes the form\n",
    "\\begin{align*}\n",
    "f(\\boldsymbol{x}) & = \\prod_{i = 1}^m \n",
    "\\left(\\frac{\\exp\\left(x_0 + \\sum_{j = 1}^d x_j s_{ij} \\right)}\n",
    "{1+\\exp\\left(x_0 + \\sum_{j = 1}^d x_j s_{ij}\\right)}\\right)^{t_i}\n",
    "\\left(1-\\frac{\\exp\\left(x_0 + \\sum_{j = 1}^d x_j s_{ij} \\right)}{1+\\exp\\left(x_0 + \\sum_{j = 1}^d x_j s_{ij}\\right)}\\right)^{1-t_i} \\\\  %equations need punctuation\n",
    "& = \\prod_{i = 1}^m \n",
    "\\left(\\frac{\\exp\\left(x_0 + \\sum_{j = 1}^d x_j s_{ij} \\right)}\n",
    "{1+\\exp\\left(x_0 + \\sum_{j = 1}^d x_j s_{ij}\\right)}\\right)^{t_i}\n",
    "\\left(\\frac{1}{1+\\exp\\left(x_0 + \\sum_{j = 1}^d x_j s_{ij}\\right)}\\right)^{1-t_i} \\\\\n",
    "& = \\prod_{i = 1}^m \n",
    "\\left(\\frac{\\left[\\exp\\left(x_0 + \\sum_{j = 1}^d x_j s_{ij} \\right) \\right]^{t_i} }\n",
    "{1+\\exp\\left(x_0 + \\sum_{j = 1}^d x_j s_{ij}\\right)}\\right)\n",
    "\\end{align*}\n",
    "\n",
    "For us to use logistic regression, we must have a matrix, t, such that it only contains 0's and 1's. Another matrix, S, can be defined by the rest of the dataset. \n",
    "\n",
    "So, let t = array([0, 1, 1, 1, 0, 1, 1, 0, 1, 0]).\n",
    "Also, let S = \n",
    "array([\n",
    "[380,3.61,3]\n",
    "[660,3.67,3]\n",
    "[800,4,1]\n",
    "[640,3.19,4]\n",
    "[520,2.93,4]\n",
    "[760,3,2]\n",
    "[560,2.98,1]\n",
    "[400,3.08,2]\n",
    "[540,3.39,3]\n",
    "[700,3.92,2]])"
   ]
  },
  {
   "cell_type": "code",
   "execution_count": 1,
   "metadata": {
    "scrolled": true
   },
   "outputs": [
    {
     "ename": "NameError",
     "evalue": "name 'genfromtxt' is not defined",
     "output_type": "error",
     "traceback": [
      "\u001b[1;31m---------------------------------------------------------------------------\u001b[0m",
      "\u001b[1;31mNameError\u001b[0m                                 Traceback (most recent call last)",
      "\u001b[1;32m<ipython-input-1-bee5fae7736d>\u001b[0m in \u001b[0;36m<module>\u001b[1;34m\u001b[0m\n\u001b[0;32m      1\u001b[0m \u001b[0mn\u001b[0m \u001b[1;33m=\u001b[0m \u001b[1;36m10\u001b[0m\u001b[1;33m\u001b[0m\u001b[0m\n\u001b[1;32m----> 2\u001b[1;33m \u001b[0mdata\u001b[0m \u001b[1;33m=\u001b[0m \u001b[0mgenfromtxt\u001b[0m\u001b[1;33m(\u001b[0m\u001b[1;34m'binary.csv'\u001b[0m\u001b[1;33m,\u001b[0m \u001b[0mdtype\u001b[0m\u001b[1;33m=\u001b[0m\u001b[0mfloat\u001b[0m\u001b[1;33m,\u001b[0m \u001b[0mdelimiter\u001b[0m\u001b[1;33m=\u001b[0m\u001b[1;34m','\u001b[0m\u001b[1;33m,\u001b[0m \u001b[0mskip_header\u001b[0m \u001b[1;33m=\u001b[0m \u001b[1;32mTrue\u001b[0m\u001b[1;33m)\u001b[0m\u001b[1;33m\u001b[0m\u001b[0m\n\u001b[0m\u001b[0;32m      3\u001b[0m \u001b[0ms\u001b[0m \u001b[1;33m=\u001b[0m \u001b[0mdata\u001b[0m\u001b[1;33m[\u001b[0m\u001b[1;33m:\u001b[0m\u001b[0mn\u001b[0m\u001b[1;33m,\u001b[0m \u001b[1;36m1\u001b[0m\u001b[1;33m:\u001b[0m\u001b[1;33m]\u001b[0m\u001b[1;33m\u001b[0m\u001b[0m\n\u001b[0;32m      4\u001b[0m \u001b[0mt\u001b[0m \u001b[1;33m=\u001b[0m \u001b[0mdata\u001b[0m\u001b[1;33m[\u001b[0m\u001b[1;33m:\u001b[0m\u001b[0mn\u001b[0m\u001b[1;33m,\u001b[0m \u001b[1;36m0\u001b[0m\u001b[1;33m]\u001b[0m\u001b[1;33m\u001b[0m\u001b[0m\n",
      "\u001b[1;31mNameError\u001b[0m: name 'genfromtxt' is not defined"
     ]
    }
   ],
   "source": [
    "n = 10\n",
    "data = genfromtxt('binary.csv', dtype=float, delimiter=',', skip_header = True)\n",
    "s = data[:n, 1:]\n",
    "t = data[:n, 0]"
   ]
  },
  {
   "cell_type": "markdown",
   "metadata": {},
   "source": [
    "We have our matrices, now what we want to do is define our dimensions. For this work we must have the number of rows in S + 1 for the dimensions to work. So we will take the number of rows in S and add 1 and set that equal to r."
   ]
  },
  {
   "cell_type": "code",
   "execution_count": 13,
   "metadata": {},
   "outputs": [],
   "source": [
    "no,dim_s = S.shape\n",
    "r = dim_s +1\n",
    "dim = r+1"
   ]
  },
  {
   "cell_type": "markdown",
   "metadata": {},
   "source": [
    "Now, we want to setup our integration to find the coefficients for the logistic regression. We will setup the integration by using this program below."
   ]
  },
  {
   "cell_type": "code",
   "execution_count": 14,
   "metadata": {},
   "outputs": [
    {
     "name": "stdout",
     "output_type": "stream",
     "text": [
      "MeanVarDataRep (AccumulateData Object)\n",
      "    solution        [-0.164  0.007 -0.66  -0.411]\n",
      "    indv_error_bound [5.689e-06 5.075e-06 1.399e-07 2.111e-05 1.052e-05]\n",
      "    ci_low          [ 1.883e-04 -3.829e-05  1.248e-06 -1.547e-04 -9.313e-05]\n",
      "    ci_high         [ 1.997e-04 -2.814e-05  1.528e-06 -1.125e-04 -7.209e-05]\n",
      "    ci_comb_low     [-0.203  0.006 -0.821 -0.494]\n",
      "    ci_comb_high    [-0.141  0.008 -0.563 -0.361]\n",
      "    solution_comb   [-0.164  0.007 -0.66  -0.411]\n",
      "    flags_comb      [False False False False]\n",
      "    flags_indv      [False False False False False]\n",
      "    n_total         2^(16)\n",
      "    n               [4096. 4096.  512.  512.  512.]\n",
      "    replications    2^(4)\n",
      "    time_integrate  0.257\n",
      "CubQMCCLT (StoppingCriterion Object)\n",
      "    inflate         1.200\n",
      "    alpha           0.010\n",
      "    abs_tol         0\n",
      "    rel_tol         2^(-2)\n",
      "    n_init          2^(8)\n",
      "    n_max           2^(30)\n",
      "LR (Integrand Object)\n",
      "Gaussian (TrueMeasure Object)\n",
      "    mean            0\n",
      "    covariance      [1.e+00 1.e-04 1.e+00 1.e+00]\n",
      "    decomp_type     pca\n",
      "Sobol (DiscreteDistribution Object)\n",
      "    d               2^(2)\n",
      "    randomize       1\n",
      "    graycode        0\n",
      "    seed            2^(3)\n",
      "    mimics          StdUniform\n",
      "    dim0            0\n"
     ]
    }
   ],
   "source": [
    "lr = LR(Sobol(dim_s+1,seed=8), s_matrix = S, t = t, r = r, prior_variance=[1,1e-4,1,1])\n",
    "if r==0: raise Exception('require r>0')\n",
    "qmcclt = CubQMCCLT(lr,\n",
    "    abs_tol = 0,\n",
    "    rel_tol = .25,\n",
    "    n_init = 256,\n",
    "    n_max = 2 ** 30,\n",
    "    inflate = 1.2,\n",
    "    alpha = 0.01,\n",
    "    replications = 16,\n",
    "    error_fun = lambda sv,abs_tol,rel_tol: maximum(abs_tol,abs(sv)*rel_tol),\n",
    "    bound_fun = lambda phvl, phvh: (\n",
    "        minimum.reduce([phvl[1:dim]/phvl[0],phvl[1:dim]/phvh[0],phvh[1:dim]/phvl[0],phvh[1:dim]/phvh[0]]),\n",
    "        maximum.reduce([phvl[1:dim]/phvl[0],phvl[1:dim]/phvh[0],phvh[1:dim]/phvl[0],phvh[1:dim]/phvh[0]]),\n",
    "        sign(phvl[0])!=sign(phvh[0])),\n",
    "    dependency = lambda flags_comb: hstack((flags_comb.any(),flags_comb)))\n",
    "s,data = qmcclt.integrate()\n",
    "print(data)"
   ]
  },
  {
   "cell_type": "markdown",
   "metadata": {},
   "source": [
    "## Sample Problem 2\n",
    "\n",
    "$y = \\int_{[a,b]^d} ||x||_2^2 dx, \\:\\: \\mbox{Lebesgue Measure}$\n",
    "\n",
    "$\\phantom{y} = \\Pi_{i=1}^d (b_i-a_i)\\int_{[a,b]^d} ||x||_2^2 \\; [ \\Pi_{i=1}^d (b_i-a_i)]^{-1} dx, \\:\\: \\mbox{Uniform Measure}$"
   ]
  },
  {
   "cell_type": "code",
   "execution_count": 5,
   "metadata": {},
   "outputs": [
    {
     "name": "stdout",
     "output_type": "stream",
     "text": [
      "Answer = 23.33333\n"
     ]
    }
   ],
   "source": [
    "abs_tol = .001\n",
    "dim = 2\n",
    "a = array([1.,2.])\n",
    "b = array([2.,4.])\n",
    "true_value = ((a[0]**3-b[0]**3)*(a[1]-b[1])+(a[0]-b[0])*(a[1]**3-b[1]**3))/3\n",
    "print('Answer = %.5f'%true_value)"
   ]
  },
  {
   "cell_type": "code",
   "execution_count": 6,
   "metadata": {},
   "outputs": [
    {
     "name": "stdout",
     "output_type": "stream",
     "text": [
      "y = 23.33326\n"
     ]
    }
   ],
   "source": [
    "# Lebesgue Measure\n",
    "integrand = CustomFun(\n",
    "    true_measure = Lebesgue(Uniform(Sobol(dim, seed=7), lower_bound=a, upper_bound=b)), \n",
    "    g = lambda x: (x**2).sum(1))\n",
    "solution,data = CubQMCCLT(integrand, abs_tol=abs_tol).integrate()\n",
    "print('y = %.5f'%solution)\n",
    "error = abs((solution-true_value))\n",
    "if error>abs_tol:\n",
    "    raise Exception(\"Not within error tolerance\")"
   ]
  },
  {
   "cell_type": "code",
   "execution_count": 7,
   "metadata": {},
   "outputs": [
    {
     "name": "stdout",
     "output_type": "stream",
     "text": [
      "y = 23.33340\n"
     ]
    }
   ],
   "source": [
    "# Uniform Measure\n",
    "integrand = CustomFun(\n",
    "    true_measure = Uniform(Sobol(dim, seed=17), lower_bound=a, upper_bound=b),\n",
    "    g = lambda x: (b-a).prod()*(x**2).sum(1))\n",
    "solution,data = CubQMCCLT(integrand, abs_tol=abs_tol).integrate()\n",
    "print('y = %.5f'%solution)\n",
    "error = abs((solution-true_value))\n",
    "if error>abs_tol:\n",
    "    raise Exception(\"Not within error tolerance\")"
   ]
  },
  {
   "cell_type": "markdown",
   "metadata": {},
   "source": [
    "## Sample Problem 3\n",
    "Integral that cannot be done in terms of any standard mathematical functions<br>\n",
    "$$y = \\int_{[a,b]} \\frac{\\sin{x}}{\\log{x}} dx, \\:\\: \\mbox{Lebesgue Measure}$$\n",
    "\n",
    "Mathematica Code: `Integrate[Sin[x]/Log[x], {x,a,b}]`\n"
   ]
  },
  {
   "cell_type": "code",
   "execution_count": 8,
   "metadata": {},
   "outputs": [],
   "source": [
    "abs_tol = .0001\n",
    "dim = 1\n",
    "a = 3\n",
    "b = 5\n",
    "true_value = -0.87961 "
   ]
  },
  {
   "cell_type": "code",
   "execution_count": 9,
   "metadata": {},
   "outputs": [
    {
     "name": "stdout",
     "output_type": "stream",
     "text": [
      "y = -0.880\n"
     ]
    }
   ],
   "source": [
    "# Lebesgue Measure\n",
    "integrand = CustomFun(\n",
    "    true_measure = Lebesgue(Uniform(Lattice(dim, randomize=True, seed=7),a,b)), \n",
    "    g = lambda x: (sin(x)/log(x)).sum(1))\n",
    "solution,data = CubQMCLatticeG(integrand, abs_tol=abs_tol).integrate()\n",
    "print('y = %.3f'%solution)\n",
    "error = abs((solution-true_value))\n",
    "if error>abs_tol:\n",
    "    raise Exception(\"Not within error tolerance\")"
   ]
  },
  {
   "cell_type": "markdown",
   "metadata": {},
   "source": [
    "## Sample Problem 4\n",
    "Integral over $\\mathbb{R}^d$\n",
    "$$y = \\int_{\\mathbb{R}^2} e^{-||x||_2^2} dx$$"
   ]
  },
  {
   "cell_type": "code",
   "execution_count": 10,
   "metadata": {},
   "outputs": [],
   "source": [
    "abs_tol = .1\n",
    "dim = 2\n",
    "true_value = pi"
   ]
  },
  {
   "cell_type": "code",
   "execution_count": 11,
   "metadata": {},
   "outputs": [
    {
     "name": "stdout",
     "output_type": "stream",
     "text": [
      "y = 3.141\n"
     ]
    }
   ],
   "source": [
    "integrand = CustomFun(\n",
    "    true_measure = Lebesgue(Gaussian(Lattice(dim,seed=7))),\n",
    "    g = lambda x: exp(-x**2).prod(1))\n",
    "solution,data = CubQMCLatticeG(integrand,abs_tol=abs_tol).integrate()\n",
    "print('y = %.3f'%solution)\n",
    "error = abs((solution-true_value))\n",
    "if error>abs_tol:\n",
    "    raise Exception(\"Not within error tolerance\")"
   ]
  },
  {
   "cell_type": "code",
   "execution_count": null,
   "metadata": {},
   "outputs": [],
   "source": []
  }
 ],
 "metadata": {
  "interpreter": {
   "hash": "2cbc6a2e523825879ba6928de6d48dd415d053b3b6e498effe5c784f561b4217"
  },
  "kernelspec": {
   "display_name": "Python 3",
   "language": "python",
   "name": "python3"
  },
  "language_info": {
   "codemirror_mode": {
    "name": "ipython",
    "version": 3
   },
   "file_extension": ".py",
   "mimetype": "text/x-python",
   "name": "python",
   "nbconvert_exporter": "python",
   "pygments_lexer": "ipython3",
   "version": "3.7.0"
  }
 },
 "nbformat": 4,
 "nbformat_minor": 2
}
